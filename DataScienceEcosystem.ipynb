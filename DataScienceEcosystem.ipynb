{
 "cells": [
  {
   "cell_type": "markdown",
   "id": "8b8ae318",
   "metadata": {},
   "source": [
    "# Data Science Tools and Ecosystem"
   ]
  },
  {
   "cell_type": "markdown",
   "id": "595849ee",
   "metadata": {},
   "source": [
    "In this notebook, Data Science Tools and Ecosystem are summarized."
   ]
  },
  {
   "cell_type": "markdown",
   "id": "f7420fa5",
   "metadata": {},
   "source": [
    "**Objectives:**"
   ]
  },
  {
   "cell_type": "markdown",
   "id": "4068d71f",
   "metadata": {},
   "source": [
    "    - List popular languages for Data Science\n",
    "    - Commonly used libraries used by Data Scientists\n",
    "    - Evaluating arithmetic expressions in Python"
   ]
  },
  {
   "cell_type": "markdown",
   "id": "a2491681",
   "metadata": {},
   "source": [
    "Some of the popular languages that Data Scientists use are:"
   ]
  },
  {
   "cell_type": "markdown",
   "id": "1a7a3b4a",
   "metadata": {},
   "source": [
    "    1 Pyhton\n",
    "    2 R\n",
    "    3 SQL\n",
    "    4 Java\n",
    "    5 Scala\n",
    "    6 C++\n",
    "    7 Java Script\n",
    "    8 Julia"
   ]
  },
  {
   "cell_type": "markdown",
   "id": "9a9feeeb",
   "metadata": {},
   "source": [
    "Some of the commonly used libraries used by Data Scientists include:"
   ]
  },
  {
   "cell_type": "markdown",
   "id": "1e9f0fa7",
   "metadata": {},
   "source": [
    "1 Pandas \n",
    "\n",
    "2 Numpy\n",
    "\n",
    "3 Scikit-learn "
   ]
  },
  {
   "cell_type": "markdown",
   "id": "8c627f75",
   "metadata": {},
   "source": [
    "|Data Science Tools|\n",
    "--------|\n",
    "|RStudios|\n",
    "|Visual Studio Code|\n",
    "|Apache NetBeans|"
   ]
  },
  {
   "cell_type": "markdown",
   "id": "631a3b77",
   "metadata": {},
   "source": [
    "### Below are a few examples of evaluating arithmetic expressions in Python"
   ]
  },
  {
   "cell_type": "markdown",
   "id": "3ed75728",
   "metadata": {},
   "source": [
    " This a simple arithmetic expression to mutiply then add integers"
   ]
  },
  {
   "cell_type": "code",
   "execution_count": 9,
   "id": "8bf4d0ac",
   "metadata": {},
   "outputs": [
    {
     "data": {
      "text/plain": [
       "17"
      ]
     },
     "execution_count": 9,
     "metadata": {},
     "output_type": "execute_result"
    }
   ],
   "source": [
    "(3*4)+5"
   ]
  },
  {
   "cell_type": "markdown",
   "id": "cebfb30e",
   "metadata": {},
   "source": [
    "This will convert 200 minutes to hours by diving by 60"
   ]
  },
  {
   "cell_type": "code",
   "execution_count": 10,
   "id": "6d708a62",
   "metadata": {},
   "outputs": [
    {
     "data": {
      "text/plain": [
       "3.3333333333333335"
      ]
     },
     "execution_count": 10,
     "metadata": {},
     "output_type": "execute_result"
    }
   ],
   "source": [
    "200/60"
   ]
  },
  {
   "cell_type": "markdown",
   "id": "e9fc472d",
   "metadata": {},
   "source": [
    "## Author\n",
    "Lina Maria Sanchez-Cespedes"
   ]
  },
  {
   "cell_type": "code",
   "execution_count": null,
   "id": "b900761a",
   "metadata": {},
   "outputs": [],
   "source": []
  }
 ],
 "metadata": {
  "kernelspec": {
   "display_name": "Python 3 (ipykernel)",
   "language": "python",
   "name": "python3"
  },
  "language_info": {
   "codemirror_mode": {
    "name": "ipython",
    "version": 3
   },
   "file_extension": ".py",
   "mimetype": "text/x-python",
   "name": "python",
   "nbconvert_exporter": "python",
   "pygments_lexer": "ipython3",
   "version": "3.10.9"
  }
 },
 "nbformat": 4,
 "nbformat_minor": 5
}
